{
 "cells": [
  {
   "cell_type": "markdown",
   "metadata": {},
   "source": [
    "Create a dataframe of ten rows, four columns with random values. Write a Pandas program to highlight dataframe’s specific columns with different colors."
   ]
  },
  {
   "cell_type": "code",
   "execution_count": 5,
   "metadata": {},
   "outputs": [],
   "source": [
    "import pandas as pd\n",
    "import numpy as np"
   ]
  },
  {
   "cell_type": "code",
   "execution_count": 6,
   "metadata": {},
   "outputs": [
    {
     "data": {
      "text/html": [
       "<style type=\"text/css\">\n",
       "#T_2b4c1_row0_col0, #T_2b4c1_row1_col0, #T_2b4c1_row2_col0, #T_2b4c1_row3_col0, #T_2b4c1_row4_col0, #T_2b4c1_row5_col0, #T_2b4c1_row6_col0, #T_2b4c1_row7_col0, #T_2b4c1_row8_col0, #T_2b4c1_row9_col0 {\n",
       "  background-color: blue;\n",
       "}\n",
       "#T_2b4c1_row0_col1, #T_2b4c1_row1_col1, #T_2b4c1_row2_col1, #T_2b4c1_row3_col1, #T_2b4c1_row4_col1, #T_2b4c1_row5_col1, #T_2b4c1_row6_col1, #T_2b4c1_row7_col1, #T_2b4c1_row8_col1, #T_2b4c1_row9_col1 {\n",
       "  background-color: green;\n",
       "}\n",
       "#T_2b4c1_row0_col2, #T_2b4c1_row1_col2, #T_2b4c1_row2_col2, #T_2b4c1_row3_col2, #T_2b4c1_row4_col2, #T_2b4c1_row5_col2, #T_2b4c1_row6_col2, #T_2b4c1_row7_col2, #T_2b4c1_row8_col2, #T_2b4c1_row9_col2 {\n",
       "  background-color: red;\n",
       "}\n",
       "</style>\n",
       "<table id=\"T_2b4c1\">\n",
       "  <thead>\n",
       "    <tr>\n",
       "      <th class=\"blank level0\" >&nbsp;</th>\n",
       "      <th id=\"T_2b4c1_level0_col0\" class=\"col_heading level0 col0\" >A</th>\n",
       "      <th id=\"T_2b4c1_level0_col1\" class=\"col_heading level0 col1\" >B</th>\n",
       "      <th id=\"T_2b4c1_level0_col2\" class=\"col_heading level0 col2\" >C</th>\n",
       "    </tr>\n",
       "  </thead>\n",
       "  <tbody>\n",
       "    <tr>\n",
       "      <th id=\"T_2b4c1_level0_row0\" class=\"row_heading level0 row0\" >0</th>\n",
       "      <td id=\"T_2b4c1_row0_col0\" class=\"data row0 col0\" >-1.314689</td>\n",
       "      <td id=\"T_2b4c1_row0_col1\" class=\"data row0 col1\" >0.471178</td>\n",
       "      <td id=\"T_2b4c1_row0_col2\" class=\"data row0 col2\" >-0.198898</td>\n",
       "    </tr>\n",
       "    <tr>\n",
       "      <th id=\"T_2b4c1_level0_row1\" class=\"row_heading level0 row1\" >1</th>\n",
       "      <td id=\"T_2b4c1_row1_col0\" class=\"data row1 col0\" >-1.804361</td>\n",
       "      <td id=\"T_2b4c1_row1_col1\" class=\"data row1 col1\" >-1.987486</td>\n",
       "      <td id=\"T_2b4c1_row1_col2\" class=\"data row1 col2\" >1.275329</td>\n",
       "    </tr>\n",
       "    <tr>\n",
       "      <th id=\"T_2b4c1_level0_row2\" class=\"row_heading level0 row2\" >2</th>\n",
       "      <td id=\"T_2b4c1_row2_col0\" class=\"data row2 col0\" >-1.631261</td>\n",
       "      <td id=\"T_2b4c1_row2_col1\" class=\"data row2 col1\" >1.247116</td>\n",
       "      <td id=\"T_2b4c1_row2_col2\" class=\"data row2 col2\" >-0.236017</td>\n",
       "    </tr>\n",
       "    <tr>\n",
       "      <th id=\"T_2b4c1_level0_row3\" class=\"row_heading level0 row3\" >3</th>\n",
       "      <td id=\"T_2b4c1_row3_col0\" class=\"data row3 col0\" >-1.516232</td>\n",
       "      <td id=\"T_2b4c1_row3_col1\" class=\"data row3 col1\" >1.304200</td>\n",
       "      <td id=\"T_2b4c1_row3_col2\" class=\"data row3 col2\" >0.081197</td>\n",
       "    </tr>\n",
       "    <tr>\n",
       "      <th id=\"T_2b4c1_level0_row4\" class=\"row_heading level0 row4\" >4</th>\n",
       "      <td id=\"T_2b4c1_row4_col0\" class=\"data row4 col0\" >-1.280002</td>\n",
       "      <td id=\"T_2b4c1_row4_col1\" class=\"data row4 col1\" >-2.565933</td>\n",
       "      <td id=\"T_2b4c1_row4_col2\" class=\"data row4 col2\" >1.326824</td>\n",
       "    </tr>\n",
       "    <tr>\n",
       "      <th id=\"T_2b4c1_level0_row5\" class=\"row_heading level0 row5\" >5</th>\n",
       "      <td id=\"T_2b4c1_row5_col0\" class=\"data row5 col0\" >-1.308234</td>\n",
       "      <td id=\"T_2b4c1_row5_col1\" class=\"data row5 col1\" >-2.748585</td>\n",
       "      <td id=\"T_2b4c1_row5_col2\" class=\"data row5 col2\" >0.480070</td>\n",
       "    </tr>\n",
       "    <tr>\n",
       "      <th id=\"T_2b4c1_level0_row6\" class=\"row_heading level0 row6\" >6</th>\n",
       "      <td id=\"T_2b4c1_row6_col0\" class=\"data row6 col0\" >-0.859170</td>\n",
       "      <td id=\"T_2b4c1_row6_col1\" class=\"data row6 col1\" >0.423448</td>\n",
       "      <td id=\"T_2b4c1_row6_col2\" class=\"data row6 col2\" >-0.079660</td>\n",
       "    </tr>\n",
       "    <tr>\n",
       "      <th id=\"T_2b4c1_level0_row7\" class=\"row_heading level0 row7\" >7</th>\n",
       "      <td id=\"T_2b4c1_row7_col0\" class=\"data row7 col0\" >0.031707</td>\n",
       "      <td id=\"T_2b4c1_row7_col1\" class=\"data row7 col1\" >0.495447</td>\n",
       "      <td id=\"T_2b4c1_row7_col2\" class=\"data row7 col2\" >-1.691082</td>\n",
       "    </tr>\n",
       "    <tr>\n",
       "      <th id=\"T_2b4c1_level0_row8\" class=\"row_heading level0 row8\" >8</th>\n",
       "      <td id=\"T_2b4c1_row8_col0\" class=\"data row8 col0\" >-0.085734</td>\n",
       "      <td id=\"T_2b4c1_row8_col1\" class=\"data row8 col1\" >-0.675628</td>\n",
       "      <td id=\"T_2b4c1_row8_col2\" class=\"data row8 col2\" >-0.692282</td>\n",
       "    </tr>\n",
       "    <tr>\n",
       "      <th id=\"T_2b4c1_level0_row9\" class=\"row_heading level0 row9\" >9</th>\n",
       "      <td id=\"T_2b4c1_row9_col0\" class=\"data row9 col0\" >-1.145221</td>\n",
       "      <td id=\"T_2b4c1_row9_col1\" class=\"data row9 col1\" >0.676213</td>\n",
       "      <td id=\"T_2b4c1_row9_col2\" class=\"data row9 col2\" >-0.171609</td>\n",
       "    </tr>\n",
       "  </tbody>\n",
       "</table>\n"
      ],
      "text/plain": [
       "<pandas.io.formats.style.Styler at 0x2400a03b290>"
      ]
     },
     "execution_count": 6,
     "metadata": {},
     "output_type": "execute_result"
    }
   ],
   "source": [
    "random_data = pd.DataFrame(np.random.randn(10, 3), columns=['A', 'B', 'C'])\n",
    "\n",
    "def highlight_columns(s):\n",
    "    if s.name == 'A':\n",
    "        return ['background-color: blue'] * len(s)\n",
    "    elif s.name == 'B':\n",
    "        return ['background-color: green'] * len(s)\n",
    "    elif s.name == 'C':\n",
    "        return ['background-color: red'] * len(s)\n",
    "    else:\n",
    "        return [''] * len(s)\n",
    "\n",
    "styled_df_columns = random_data.style.apply(highlight_columns, axis=0)\n",
    "\n",
    "styled_df_columns\n"
   ]
  }
 ],
 "metadata": {
  "kernelspec": {
   "display_name": "Python 3",
   "language": "python",
   "name": "python3"
  },
  "language_info": {
   "codemirror_mode": {
    "name": "ipython",
    "version": 3
   },
   "file_extension": ".py",
   "mimetype": "text/x-python",
   "name": "python",
   "nbconvert_exporter": "python",
   "pygments_lexer": "ipython3",
   "version": "3.12.5"
  }
 },
 "nbformat": 4,
 "nbformat_minor": 2
}
