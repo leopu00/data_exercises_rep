{
 "cells": [
  {
   "cell_type": "markdown",
   "metadata": {},
   "source": [
    "Create a dataframe of ten rows, four columns with random values. Convert some values to nan values. Write a Pandas program which will highlight the nan values."
   ]
  },
  {
   "cell_type": "code",
   "execution_count": 18,
   "metadata": {},
   "outputs": [],
   "source": [
    "import pandas as pd\n",
    "import numpy as np"
   ]
  },
  {
   "cell_type": "code",
   "execution_count": 19,
   "metadata": {},
   "outputs": [
    {
     "data": {
      "text/html": [
       "<style type=\"text/css\">\n",
       "#T_ace75_row3_col1, #T_ace75_row6_col2, #T_ace75_row8_col0 {\n",
       "  background-color: red;\n",
       "}\n",
       "</style>\n",
       "<table id=\"T_ace75\">\n",
       "  <thead>\n",
       "    <tr>\n",
       "      <th class=\"blank level0\" >&nbsp;</th>\n",
       "      <th id=\"T_ace75_level0_col0\" class=\"col_heading level0 col0\" >A</th>\n",
       "      <th id=\"T_ace75_level0_col1\" class=\"col_heading level0 col1\" >B</th>\n",
       "      <th id=\"T_ace75_level0_col2\" class=\"col_heading level0 col2\" >C</th>\n",
       "      <th id=\"T_ace75_level0_col3\" class=\"col_heading level0 col3\" >D</th>\n",
       "    </tr>\n",
       "  </thead>\n",
       "  <tbody>\n",
       "    <tr>\n",
       "      <th id=\"T_ace75_level0_row0\" class=\"row_heading level0 row0\" >0</th>\n",
       "      <td id=\"T_ace75_row0_col0\" class=\"data row0 col0\" >26.000000</td>\n",
       "      <td id=\"T_ace75_row0_col1\" class=\"data row0 col1\" >89.000000</td>\n",
       "      <td id=\"T_ace75_row0_col2\" class=\"data row0 col2\" >99.000000</td>\n",
       "      <td id=\"T_ace75_row0_col3\" class=\"data row0 col3\" >4</td>\n",
       "    </tr>\n",
       "    <tr>\n",
       "      <th id=\"T_ace75_level0_row1\" class=\"row_heading level0 row1\" >1</th>\n",
       "      <td id=\"T_ace75_row1_col0\" class=\"data row1 col0\" >79.000000</td>\n",
       "      <td id=\"T_ace75_row1_col1\" class=\"data row1 col1\" >86.000000</td>\n",
       "      <td id=\"T_ace75_row1_col2\" class=\"data row1 col2\" >67.000000</td>\n",
       "      <td id=\"T_ace75_row1_col3\" class=\"data row1 col3\" >9</td>\n",
       "    </tr>\n",
       "    <tr>\n",
       "      <th id=\"T_ace75_level0_row2\" class=\"row_heading level0 row2\" >2</th>\n",
       "      <td id=\"T_ace75_row2_col0\" class=\"data row2 col0\" >2.000000</td>\n",
       "      <td id=\"T_ace75_row2_col1\" class=\"data row2 col1\" >17.000000</td>\n",
       "      <td id=\"T_ace75_row2_col2\" class=\"data row2 col2\" >27.000000</td>\n",
       "      <td id=\"T_ace75_row2_col3\" class=\"data row2 col3\" >42</td>\n",
       "    </tr>\n",
       "    <tr>\n",
       "      <th id=\"T_ace75_level0_row3\" class=\"row_heading level0 row3\" >3</th>\n",
       "      <td id=\"T_ace75_row3_col0\" class=\"data row3 col0\" >55.000000</td>\n",
       "      <td id=\"T_ace75_row3_col1\" class=\"data row3 col1\" >nan</td>\n",
       "      <td id=\"T_ace75_row3_col2\" class=\"data row3 col2\" >65.000000</td>\n",
       "      <td id=\"T_ace75_row3_col3\" class=\"data row3 col3\" >47</td>\n",
       "    </tr>\n",
       "    <tr>\n",
       "      <th id=\"T_ace75_level0_row4\" class=\"row_heading level0 row4\" >4</th>\n",
       "      <td id=\"T_ace75_row4_col0\" class=\"data row4 col0\" >57.000000</td>\n",
       "      <td id=\"T_ace75_row4_col1\" class=\"data row4 col1\" >7.000000</td>\n",
       "      <td id=\"T_ace75_row4_col2\" class=\"data row4 col2\" >64.000000</td>\n",
       "      <td id=\"T_ace75_row4_col3\" class=\"data row4 col3\" >86</td>\n",
       "    </tr>\n",
       "    <tr>\n",
       "      <th id=\"T_ace75_level0_row5\" class=\"row_heading level0 row5\" >5</th>\n",
       "      <td id=\"T_ace75_row5_col0\" class=\"data row5 col0\" >28.000000</td>\n",
       "      <td id=\"T_ace75_row5_col1\" class=\"data row5 col1\" >1.000000</td>\n",
       "      <td id=\"T_ace75_row5_col2\" class=\"data row5 col2\" >39.000000</td>\n",
       "      <td id=\"T_ace75_row5_col3\" class=\"data row5 col3\" >68</td>\n",
       "    </tr>\n",
       "    <tr>\n",
       "      <th id=\"T_ace75_level0_row6\" class=\"row_heading level0 row6\" >6</th>\n",
       "      <td id=\"T_ace75_row6_col0\" class=\"data row6 col0\" >89.000000</td>\n",
       "      <td id=\"T_ace75_row6_col1\" class=\"data row6 col1\" >99.000000</td>\n",
       "      <td id=\"T_ace75_row6_col2\" class=\"data row6 col2\" >nan</td>\n",
       "      <td id=\"T_ace75_row6_col3\" class=\"data row6 col3\" >35</td>\n",
       "    </tr>\n",
       "    <tr>\n",
       "      <th id=\"T_ace75_level0_row7\" class=\"row_heading level0 row7\" >7</th>\n",
       "      <td id=\"T_ace75_row7_col0\" class=\"data row7 col0\" >24.000000</td>\n",
       "      <td id=\"T_ace75_row7_col1\" class=\"data row7 col1\" >64.000000</td>\n",
       "      <td id=\"T_ace75_row7_col2\" class=\"data row7 col2\" >24.000000</td>\n",
       "      <td id=\"T_ace75_row7_col3\" class=\"data row7 col3\" >55</td>\n",
       "    </tr>\n",
       "    <tr>\n",
       "      <th id=\"T_ace75_level0_row8\" class=\"row_heading level0 row8\" >8</th>\n",
       "      <td id=\"T_ace75_row8_col0\" class=\"data row8 col0\" >nan</td>\n",
       "      <td id=\"T_ace75_row8_col1\" class=\"data row8 col1\" >50.000000</td>\n",
       "      <td id=\"T_ace75_row8_col2\" class=\"data row8 col2\" >55.000000</td>\n",
       "      <td id=\"T_ace75_row8_col3\" class=\"data row8 col3\" >62</td>\n",
       "    </tr>\n",
       "    <tr>\n",
       "      <th id=\"T_ace75_level0_row9\" class=\"row_heading level0 row9\" >9</th>\n",
       "      <td id=\"T_ace75_row9_col0\" class=\"data row9 col0\" >15.000000</td>\n",
       "      <td id=\"T_ace75_row9_col1\" class=\"data row9 col1\" >68.000000</td>\n",
       "      <td id=\"T_ace75_row9_col2\" class=\"data row9 col2\" >24.000000</td>\n",
       "      <td id=\"T_ace75_row9_col3\" class=\"data row9 col3\" >8</td>\n",
       "    </tr>\n",
       "    <tr>\n",
       "      <th id=\"T_ace75_level0_row10\" class=\"row_heading level0 row10\" >10</th>\n",
       "      <td id=\"T_ace75_row10_col0\" class=\"data row10 col0\" >98.000000</td>\n",
       "      <td id=\"T_ace75_row10_col1\" class=\"data row10 col1\" >6.000000</td>\n",
       "      <td id=\"T_ace75_row10_col2\" class=\"data row10 col2\" >10.000000</td>\n",
       "      <td id=\"T_ace75_row10_col3\" class=\"data row10 col3\" >90</td>\n",
       "    </tr>\n",
       "  </tbody>\n",
       "</table>\n"
      ],
      "text/plain": [
       "<pandas.io.formats.style.Styler at 0x1248ce82630>"
      ]
     },
     "execution_count": 19,
     "metadata": {},
     "output_type": "execute_result"
    }
   ],
   "source": [
    "random_data = np.random.randint(1, 100, size=(11, 4))\n",
    "df = pd.DataFrame(random_data, columns=['A', 'B', 'C', 'D'])\n",
    "nan_indexes = [(3, 1), (6, 2), (8, 0)]\n",
    "\n",
    "for x, y in nan_indexes:\n",
    "    df.iat[x, y] = np.nan\n",
    "\n",
    "def highlight_nan(set):\n",
    "    return ['background-color: red' if pd.isna(vector) else '' for vector in set]\n",
    "\n",
    "styled_df = df.style.apply(highlight_nan)\n",
    "styled_df"
   ]
  }
 ],
 "metadata": {
  "kernelspec": {
   "display_name": "Python 3",
   "language": "python",
   "name": "python3"
  },
  "language_info": {
   "codemirror_mode": {
    "name": "ipython",
    "version": 3
   },
   "file_extension": ".py",
   "mimetype": "text/x-python",
   "name": "python",
   "nbconvert_exporter": "python",
   "pygments_lexer": "ipython3",
   "version": "3.12.5"
  }
 },
 "nbformat": 4,
 "nbformat_minor": 2
}
